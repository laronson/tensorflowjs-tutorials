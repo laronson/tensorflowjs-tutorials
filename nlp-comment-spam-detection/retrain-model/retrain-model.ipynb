{
  "nbformat": 4,
  "nbformat_minor": 0,
  "metadata": {
    "colab": {
      "provenance": [],
      "gpuType": "T4"
    },
    "kernelspec": {
      "name": "python3",
      "display_name": "Python 3"
    },
    "language_info": {
      "name": "python"
    },
    "accelerator": "GPU"
  },
  "cells": [
    {
      "cell_type": "markdown",
      "source": [
        "This coloab notebook is used to retrain an existing model that is used for text recognition to use new custom data.  We then export the model for use in our application"
      ],
      "metadata": {
        "id": "GoMOVjp2jkDy"
      }
    },
    {
      "cell_type": "code",
      "execution_count": null,
      "metadata": {
        "id": "GRGhXDR9W6pt"
      },
      "outputs": [],
      "source": [
        "#NOTE*** This will fail in colab when running in colab with python verson 3.10\n",
        "#this is a known bug but has not been fixed\n",
        "!pip install -q tflite-model-maker"
      ]
    },
    {
      "cell_type": "code",
      "source": [
        "import numpy as np\n",
        "import os\n",
        "\n",
        "from tflite_model_maker import configs\n",
        "from tflite_model_maker import ExportFormat\n",
        "from tflite_model_maker import model_spec\n",
        "from tflite_model_maker import text_classifier\n",
        "from tflite_model_maker.text_classifier import DataLoader\n",
        "\n",
        "import tensorflow as tf\n",
        "assert tf.__version__.startswith('2')\n",
        "tf.get_logger().setLevel('ERROR')"
      ],
      "metadata": {
        "id": "V4Z2LspOXFwJ"
      },
      "execution_count": null,
      "outputs": []
    },
    {
      "cell_type": "code",
      "source": [
        "#pull a csv containing new training data given to us by the tutorial.  The training data is a list of comments with true/false values to\n",
        "#whether or not the comment is spam\n",
        "data_file = tf.keras.utils.get_file('comment-spam-extras.csv',\n",
        "                                    origin='https://storage.googleapis.com/jmstore/TensorFlowJS/EdX/code/6.5/jm_blog_comments_extras.csv',\n",
        "                                    extract=False)"
      ],
      "metadata": {
        "id": "TvD8yHoCX6nQ"
      },
      "execution_count": null,
      "outputs": []
    },
    {
      "cell_type": "code",
      "source": [
        "#configure the model and how it will use the training dataset\n",
        "spec = model_spec.get('average_word_vec')\n",
        "spec.num_words = 2000 #Choose the number of words that model will store as indications of spam (words in the vocabulary file)\n",
        "spec.seq_len=20 #The number of tokens that the model will accept as an input\n",
        "spec.wordvec_dim = 7 #The number of word vector dimentions to use to classify words"
      ],
      "metadata": {
        "id": "-m_8YHtiYcFe"
      },
      "execution_count": null,
      "outputs": []
    },
    {
      "cell_type": "code",
      "source": [
        "#import the training data from the csv instantiated above\n",
        "data = DataLoader.from_csv(file_path=data_file,\n",
        "                           text_column='commenttext',\n",
        "                           label_column='spam',\n",
        "                           model_spec=spec,\n",
        "                           deliteter=',',\n",
        "                           shuffle=True,\n",
        "                           is_training=True)\n",
        "\n",
        "\n",
        "train_data, test_data = data.split(0.2)"
      ],
      "metadata": {
        "id": "vUmVIv18iCC8"
      },
      "execution_count": null,
      "outputs": []
    },
    {
      "cell_type": "code",
      "source": [
        "#train the model\n",
        "model = text_classifier.create(train_data, model_spec=spec, epochs=50)"
      ],
      "metadata": {
        "id": "5vvZ8JGRiqqT"
      },
      "execution_count": null,
      "outputs": []
    },
    {
      "cell_type": "code",
      "source": [
        "#export the model for use in other places.  The first argument will specify the\n",
        "#location of where to export the model files.  The second parameter specifies that\n",
        "#model will use the TSJS format and will also export a label and vocabulary file\n",
        "model.export(export_dir='/tmp/js_export',\n",
        "             export_format=[ExportFormat.TFJS, ExportFormat.LABEL,\n",
        "                            ExportFormat.VOCAB])\n",
        "\n",
        "!zip -r /tmp/js_export/ModelFiles.zip /tmp/js_export/"
      ],
      "metadata": {
        "id": "lPKp6vYjiwt3"
      },
      "execution_count": null,
      "outputs": []
    }
  ]
}